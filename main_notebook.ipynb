{
 "cells": [
  {
   "cell_type": "code",
   "execution_count": 8,
   "metadata": {},
   "outputs": [],
   "source": [
    "%matplotlib inline\n",
    "%reset -f\n",
    "from time import time, sleep\n",
    "import numpy as np\n",
    "import matplotlib.pyplot as plt\n",
    "from IPython import display"
   ]
  },
  {
   "cell_type": "markdown",
   "metadata": {},
   "source": [
    "# Framework"
   ]
  },
  {
   "cell_type": "markdown",
   "metadata": {},
   "source": [
    "Implement everything in `modules.ipynb`. Read all the comments thoughtfully to ease the pain. Please try not to change the prototypes.\n",
    "\n",
    "Do not forget, that each module should return **AND** store `output` and `gradInput`.\n",
    "\n",
    "The typical assumption is that `module.backward` is always executed after `module.forward`,\n",
    "so `output` is stored, this would be useful for `SoftMax`. "
   ]
  },
  {
   "cell_type": "code",
   "execution_count": null,
   "metadata": {},
   "outputs": [
    {
     "name": "stderr",
     "output_type": "stream",
     "text": [
      "D:\\Projects\\ml-course\\homeworks\\hw07_nn_from_scratch\\modules.py:432: SyntaxWarning: invalid escape sequence '\\g'\n",
      "  Implements linear transform of input y = \\gamma * x + \\beta\n"
     ]
    },
    {
     "data": {
      "text/plain": [
       "<Figure size 640x480 with 0 Axes>"
      ]
     },
     "metadata": {},
     "output_type": "display_data"
    }
   ],
   "source": [
    "# (re-)load layers\n",
    "%run modules.ipynb"
   ]
  },
  {
   "cell_type": "markdown",
   "metadata": {},
   "source": [
    "# Digit classification "
   ]
  },
  {
   "cell_type": "markdown",
   "metadata": {},
   "source": [
    "We are using old good [MNIST](http://yann.lecun.com/exdb/mnist/) as our dataset. It can be downloaded with the following file."
   ]
  },
  {
   "cell_type": "code",
   "execution_count": 10,
   "metadata": {},
   "outputs": [],
   "source": [
    "from sklearn.datasets import fetch_openml\n",
    "\n",
    "X, y = fetch_openml(\"mnist_784\", version=1, return_X_y=True, as_frame=False)"
   ]
  },
  {
   "cell_type": "markdown",
   "metadata": {},
   "source": [
    "Train, validation, test splits"
   ]
  },
  {
   "cell_type": "code",
   "execution_count": 11,
   "metadata": {},
   "outputs": [],
   "source": [
    "from sklearn.model_selection import train_test_split\n",
    "\n",
    "X_train, X_test, y_train, y_test = train_test_split(X, y, test_size=20000, random_state=1, shuffle=True, stratify=y)\n",
    "X_val, X_test, y_val, y_test = train_test_split(X_test, y_test, test_size=0.5, random_state=1, shuffle=True, stratify=y_test)"
   ]
  },
  {
   "cell_type": "markdown",
   "metadata": {},
   "source": [
    "Defining a simple Fully-connected network"
   ]
  },
  {
   "cell_type": "code",
   "execution_count": null,
   "metadata": {},
   "outputs": [
    {
     "name": "stdout",
     "output_type": "stream",
     "text": [
      "Linear 784 -> 32\n",
      "BatchNormalization\n",
      "ChannelwiseScaling\n",
      "ReLU\n",
      "Linear 32 -> 32\n",
      "BatchNormalization\n",
      "ChannelwiseScaling\n",
      "ReLU\n",
      "Linear 32 -> 10\n",
      "LogSoftMax\n",
      "\n"
     ]
    }
   ],
   "source": [
    "net = Sequential()\n",
    "net.add(Linear(784, 32))\n",
    "net.add(BatchNormalization())\n",
    "net.add(ChannelwiseScaling(32))\n",
    "net.add(ReLU())\n",
    "net.add(Linear(32, 32))\n",
    "net.add(BatchNormalization())\n",
    "net.add(ChannelwiseScaling(32))\n",
    "net.add(ReLU())\n",
    "net.add(Linear(32, 10))\n",
    "net.add(LogSoftMax())\n",
    "\n",
    "print(net)\n",
    "\n",
    "loss_fn = ClassNLLCriterion()\n",
    "\n",
    "optimizer_config = {'learning_rate' : 1e-3, 'beta1': 0.9, 'beta2': 0.999, 'epsilon': 1e-8}\n",
    "# optimizer_config = {'learning_rate': 1e-3, 'momentum': 0.9}\n",
    "optimizer_state = {}\n",
    "\n",
    "# Looping params\n",
    "n_epoch = 15\n",
    "batch_size = 32"
   ]
  },
  {
   "cell_type": "code",
   "execution_count": 30,
   "metadata": {},
   "outputs": [],
   "source": [
    "def get_batches(dataset, batch_size):\n",
    "    X, Y = dataset\n",
    "    n_samples = X.shape[0]\n",
    "        \n",
    "    # Shuffle at the start of epoch\n",
    "    indices = np.arange(n_samples)\n",
    "    np.random.shuffle(indices)\n",
    "    \n",
    "    for start in range(0, n_samples, batch_size):\n",
    "        end = min(start + batch_size, n_samples)\n",
    "        \n",
    "        batch_idx = indices[start:end]\n",
    "    \n",
    "        yield X[batch_idx], Y[batch_idx]\n",
    "\n",
    "def one_hot(vec, classes=10):\n",
    "\n",
    "    to_int = np.vectorize(int)\n",
    "    vec = to_int(vec)\n",
    "    enc = np.eye(classes)[vec]\n",
    "    return enc"
   ]
  },
  {
   "cell_type": "code",
   "execution_count": 31,
   "metadata": {},
   "outputs": [
    {
     "name": "stdout",
     "output_type": "stream",
     "text": [
      "Epoch 1\n",
      "------------------------------\n",
      "Train loss: 0.5278204262130793, Validation loss: 0.2913878479213727\n",
      "Epoch 2\n",
      "------------------------------\n",
      "Train loss: 0.1817482641310736, Validation loss: 0.18517413638786606\n",
      "Epoch 3\n",
      "------------------------------\n",
      "Train loss: 0.1483888187358028, Validation loss: 0.25372528587531457\n",
      "Epoch 4\n",
      "------------------------------\n",
      "Train loss: 0.13014091463336297, Validation loss: 0.2408998548935412\n",
      "Epoch 5\n",
      "------------------------------\n",
      "Train loss: 0.11844808646013955, Validation loss: 0.24410040451729342\n",
      "Epoch 6\n",
      "------------------------------\n",
      "Train loss: 0.10934440165037433, Validation loss: 0.16849667782544436\n",
      "Epoch 7\n",
      "------------------------------\n",
      "Train loss: 0.10127642037834339, Validation loss: 0.31905229794150125\n",
      "Epoch 8\n",
      "------------------------------\n",
      "Train loss: 0.09735689748863861, Validation loss: 0.19380300771709888\n",
      "Epoch 9\n",
      "------------------------------\n",
      "Train loss: 0.09200306504958938, Validation loss: 0.18158949849429715\n",
      "Epoch 10\n",
      "------------------------------\n",
      "Train loss: 0.08655220721193876, Validation loss: 0.18579420787615045\n",
      "Epoch 11\n",
      "------------------------------\n",
      "Train loss: 0.08505852436224667, Validation loss: 0.3728381203885677\n",
      "Epoch 12\n",
      "------------------------------\n",
      "Train loss: 0.0792418304965336, Validation loss: 0.3633177261527951\n",
      "Epoch 13\n",
      "------------------------------\n",
      "Train loss: 0.07717969587211274, Validation loss: 0.1405749844504018\n",
      "Epoch 14\n",
      "------------------------------\n",
      "Train loss: 0.07685583474771604, Validation loss: 0.2304555353297303\n",
      "Epoch 15\n",
      "------------------------------\n",
      "Train loss: 0.07427200588576202, Validation loss: 0.1577317082717284\n",
      "Epoch 16\n",
      "------------------------------\n",
      "Train loss: 0.07118078648397388, Validation loss: 0.213922955124924\n",
      "Epoch 17\n",
      "------------------------------\n",
      "Train loss: 0.06902045685223981, Validation loss: 0.25481186857421156\n",
      "Epoch 18\n",
      "------------------------------\n",
      "Train loss: 0.06868073515499508, Validation loss: 0.1380180779364373\n",
      "Epoch 19\n",
      "------------------------------\n",
      "Train loss: 0.06663253254237038, Validation loss: 0.18747474753339344\n",
      "Epoch 20\n",
      "------------------------------\n",
      "Train loss: 0.06417377905384473, Validation loss: 0.18031941978730515\n"
     ]
    },
    {
     "data": {
      "image/png": "[encoded data removed]",
      "text/plain": [
       "<Figure size 800x600 with 1 Axes>"
      ]
     },
     "metadata": {},
     "output_type": "display_data"
    }
   ],
   "source": [
    "loss_history = []\n",
    "\n",
    "for i in range(n_epoch):\n",
    "    train_loss = []\n",
    "    for x_batch, y_batch in get_batches((X_train, y_train), batch_size):\n",
    "        \n",
    "        net.train()\n",
    "        net.zeroGradParameters()\n",
    "        y_batch = one_hot(y_batch)\n",
    "        \n",
    "        # Forward\n",
    "        predictions = net.forward(x_batch)\n",
    "        loss = loss_fn.forward(predictions, y_batch)\n",
    "    \n",
    "        # Backward\n",
    "        dp = loss_fn.backward(predictions, y_batch)\n",
    "        net.backward(x_batch, dp)\n",
    "        \n",
    "        # Update weights\n",
    "        adam_optimizer(net.getParameters(), \n",
    "                     net.getGradParameters(), \n",
    "                     optimizer_config,\n",
    "                     optimizer_state)      \n",
    "        \n",
    "        loss_history.append(loss)\n",
    "        train_loss.append(loss)\n",
    "\n",
    "    val_loss = []\n",
    "    for x_batch, y_batch in get_batches((X_val, y_val), batch_size):\n",
    "\n",
    "        net.evaluate()\n",
    "        y_batch = one_hot(y_batch)\n",
    "        \n",
    "        predictions = net.forward(x_batch)\n",
    "        loss = loss_fn.forward(predictions, y_batch)\n",
    "\n",
    "        val_loss.append(loss)\n",
    "\n",
    "    \n",
    "    # Stats\n",
    "    train_loss = np.mean(train_loss)\n",
    "    val_loss = np.mean(val_loss)\n",
    "    print(f'Epoch {i + 1}\\n------------------------------')\n",
    "    print(f'Train loss: {train_loss}, Validation loss: {val_loss}')\n",
    "    \n",
    "plt.figure(figsize=(8, 6))\n",
    "plt.title(\"Training loss\")\n",
    "plt.xlabel(\"#iteration\")\n",
    "plt.ylabel(\"loss\")\n",
    "plt.plot(loss_history, 'b')\n",
    "plt.show()"
   ]
  },
  {
   "cell_type": "code",
   "execution_count": 32,
   "metadata": {},
   "outputs": [],
   "source": [
    "def accuracy(y_pred, y_true):\n",
    "\n",
    "    size = y_pred.shape[0]\n",
    "    y_pred = np.argmax(y_pred, axis=1)\n",
    "    acc = np.sum(y_pred == y_true) / size\n",
    "    return acc"
   ]
  },
  {
   "cell_type": "markdown",
   "metadata": {},
   "source": [
    "Print here your accuracy on test set. It should be around 90%."
   ]
  },
  {
   "cell_type": "code",
   "execution_count": 33,
   "metadata": {},
   "outputs": [
    {
     "name": "stdout",
     "output_type": "stream",
     "text": [
      "Test accuracy: 0.9561701277955271\n"
     ]
    }
   ],
   "source": [
    "acc = []\n",
    "for x_batch, y_batch in get_batches((X_test, y_test), batch_size):\n",
    "    \n",
    "    net.evaluate()\n",
    "    y_batch = np.array(list(map(int, y_batch)))\n",
    "    \n",
    "    predictions = net.forward(x_batch)\n",
    "    acc.append(accuracy(predictions, y_batch))\n",
    "\n",
    "print(f'Test accuracy: {np.mean(acc)}')"
   ]
  }
 ],
 "metadata": {
  "kernelspec": {
   "display_name": ".venv",
   "language": "python",
   "name": "python3"
  },
  "language_info": {
   "codemirror_mode": {
    "name": "ipython",
    "version": 3
   },
   "file_extension": ".py",
   "mimetype": "text/x-python",
   "name": "python",
   "nbconvert_exporter": "python",
   "pygments_lexer": "ipython3",
   "version": "3.13.3"
  }
 },
 "nbformat": 4,
 "nbformat_minor": 1
}
